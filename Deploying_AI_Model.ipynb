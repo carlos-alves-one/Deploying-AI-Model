{
  "nbformat": 4,
  "nbformat_minor": 0,
  "metadata": {
    "colab": {
      "name": "Deploying-AI-Model.ipynb",
      "provenance": [],
      "collapsed_sections": [],
      "authorship_tag": "ABX9TyOR8oTpmwAVmbOtPmElT8Cd",
      "include_colab_link": true
    },
    "kernelspec": {
      "name": "python3",
      "display_name": "Python 3"
    },
    "language_info": {
      "name": "python"
    }
  },
  "cells": [
    {
      "cell_type": "markdown",
      "metadata": {
        "id": "view-in-github",
        "colab_type": "text"
      },
      "source": [
        "<a href=\"https://colab.research.google.com/github/carlos-alves-one/Deploying-AI-Model/blob/main/Deploying_AI_Model.ipynb\" target=\"_parent\"><img src=\"https://colab.research.google.com/assets/colab-badge.svg\" alt=\"Open In Colab\"/></a>"
      ]
    },
    {
      "cell_type": "markdown",
      "source": [
        "## Goldsmiths University of London\n",
        "**Author....: Carlos Manuel de Oliveira Alves**<br>\n",
        "**Student..: cdeol003**<br>\n",
        "**Created..: 21/08/2022**"
      ],
      "metadata": {
        "id": "yKnFwVsIcAeI"
      }
    },
    {
      "cell_type": "code",
      "source": [
        "# install the needed libraries\n",
        "!pip install --quiet transformers"
      ],
      "metadata": {
        "id": "xSir_uylcCi2"
      },
      "execution_count": 5,
      "outputs": []
    },
    {
      "cell_type": "code",
      "source": [
        "# importing the pillow library and requests\n",
        "# PIL is a library that offers several standard procedures for manipulating images\n",
        "from PIL import Image\n",
        "import requests"
      ],
      "metadata": {
        "id": "rY1IITvPcvcx"
      },
      "execution_count": 8,
      "outputs": []
    },
    {
      "cell_type": "code",
      "source": [
        ""
      ],
      "metadata": {
        "id": "T6zXW9oXdUVY"
      },
      "execution_count": null,
      "outputs": []
    }
  ]
}